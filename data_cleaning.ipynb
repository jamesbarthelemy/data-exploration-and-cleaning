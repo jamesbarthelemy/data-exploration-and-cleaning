{
 "cells": [
  {
   "cell_type": "markdown",
   "id": "7e4bdc40",
   "metadata": {},
   "source": [
    "# Import"
   ]
  },
  {
   "cell_type": "code",
   "execution_count": 1,
   "id": "2b2f8d41",
   "metadata": {},
   "outputs": [],
   "source": [
    "import numpy as np\n",
    "import pandas as pd\n",
    "import seaborn as sns\n",
    "import matplotlib.pyplot as plt"
   ]
  },
  {
   "cell_type": "markdown",
   "id": "4ea81901",
   "metadata": {},
   "source": [
    "# Data load"
   ]
  },
  {
   "cell_type": "code",
   "execution_count": 2,
   "id": "2425344f",
   "metadata": {},
   "outputs": [
    {
     "name": "stdout",
     "output_type": "stream",
     "text": [
      "Nombre de colonnes: 187\n",
      "Nombre de lignes: 2012375\n"
     ]
    }
   ],
   "source": [
    "data = pd.read_csv('en.openfoodfacts.org.products.csv', sep ='\\t', decimal= ',', encoding = 'utf8', low_memory=False)\n",
    "\n",
    "print('Nombre de colonnes: ' + str(len(data.columns)))\n",
    "print('Nombre de lignes: ' + str(len(data)))"
   ]
  },
  {
   "cell_type": "raw",
   "id": "c27c2930",
   "metadata": {},
   "source": [
    "The initial dataset contains 187 columns and 2,012,375 rows."
   ]
  },
  {
   "cell_type": "markdown",
   "id": "2bd97411",
   "metadata": {},
   "source": [
    "# Functions library"
   ]
  },
  {
   "cell_type": "markdown",
   "id": "0f0aa4d3",
   "metadata": {},
   "source": [
    "## Data"
   ]
  },
  {
   "cell_type": "code",
   "execution_count": 3,
   "id": "0b29c074",
   "metadata": {},
   "outputs": [],
   "source": [
    "def isNaN(string):\n",
    "    return string != string\n",
    "       \n",
    "# ---------------------------------------------\n",
    "\n",
    "def DataFilter(df_in, column, string):\n",
    "    return df_in[ df_in[column].notna() & df_in[column].str.contains(string)]\n",
    "\n",
    "def DataFilterNA(df_in, column):\n",
    "    return df_in[ df_in[column].notna() ]\n",
    "\n",
    "# ---------------------------------------------\n",
    "\n",
    "def DataFilterInt(df_in, column, integer):\n",
    "    return df_in[ df_in[column].notna() & df_in[column] == integer]\n",
    "\n",
    "# ---------------------------------------------\n",
    "\n",
    "def Drop_column(df, col_name):\n",
    "    df = df.drop(col_name, 1) \n",
    "    return df\n",
    "\n",
    "# ---------------------------------------------\n",
    "\n",
    "def Get_coverageRate_ByColumn(df, limit, sup):\n",
    "    columns = df.columns.values\n",
    "    count_col_sup = 0\n",
    "    count_col_inf = 0\n",
    "    col_list_inf = []\n",
    "    col_list_sup = []\n",
    "    \n",
    "    for column in columns:\n",
    "        if sup == False:\n",
    "            if round((1-(len(df) - len(df[column].dropna()))/len(df))*100,3) < limit:\n",
    "                count_col_inf += 1\n",
    "                col_list_inf.append(column)\n",
    "        else:\n",
    "            if round((1-(len(df) - len(df[column].dropna()))/len(df))*100,3) >= limit:\n",
    "                count_col_sup += 1\n",
    "                col_list_sup.append(column)\n",
    "    \n",
    "    if sup == False:\n",
    "        return col_list_inf\n",
    "    else:\n",
    "        return col_list_sup\n",
    "\n",
    "# ---------------------------------------------\n",
    "\n",
    "def Create_dictionary(df, column, split_char):\n",
    "    df[column].str.lower()\n",
    "    unique_rows = df[column].dropna().unique()\n",
    "    categories_dic = []\n",
    "\n",
    "    for i in range(0,len(unique_rows)):\n",
    "        tab = unique_rows[i].split(split_char)\n",
    "        for j in range(0,len(tab)):\n",
    "            if not tab[j] in categories_dic:\n",
    "                categories_dic.append(tab[j])\n",
    "\n",
    "    categories_dic.sort()\n",
    "    return categories_dic\n",
    "\n",
    "# ---------------------------------------------\n",
    "\n",
    "def revue_Quantitative_Discrete(df, _column):\n",
    "    # Vérifie les valeurs manquantes\n",
    "    print('Nombre de valeurs manquantes: ' + str(df[_column].isnull().sum()))\n",
    "    print('')\n",
    "    # Affiche les valeurs uniques\n",
    "    print('Liste des valeurs possibles: ')\n",
    "    print(df[_column].unique())\n",
    "    print('')\n",
    "    # Affiche les mesures\n",
    "    print('Mesures: ')\n",
    "    print(df[_column].describe())\n",
    "    \n",
    "# ---------------------------------------------\n",
    "\n",
    "def revue_Quantitative_Continue(_df, _column, _valAberr):\n",
    "    # Conversion de la colonne\n",
    "    print('Conversion de la colonne ' + _column + ' au format float')\n",
    "    _df = _df.astype({_column: 'float'})\n",
    "    print('')\n",
    "    \n",
    "    # Affiche les mesures\n",
    "    print('Mesures: ')\n",
    "    print(_df[_column].describe())\n",
    "    print('')\n",
    "    \n",
    "    # Suppression des valeurs aberrantes\n",
    "    _aberrante=len(_df[_df[_column]>=_valAberr])\n",
    "    if _aberrante != 0:\n",
    "        print('Nombre de valeurs aberrantes: ' + str(_aberrante))\n",
    "        print('Suppression des valeurs aberrantes (> ' + str(_valAberr) + ')')\n",
    "        _df = _df[(_df[_column].isnull()) | (_df[_column]<_valAberr)]\n",
    "        print('')\n",
    "    else:\n",
    "        print('Pas de valeurs aberrantes')\n",
    "        print('')\n",
    "    \n",
    "    # Test des valeurs manquantes\n",
    "    _manquante = _df[_column].isnull().sum()\n",
    "            \n",
    "    if _manquante != 0:\n",
    "        print('Nombre de valeurs manquantes: ' + str(_manquante))\n",
    "        print('Remplacement par la moyenne')\n",
    "        mean = _df[_column].dropna().mean()\n",
    "        _df.loc[_df[_column].isnull(),_column] = mean\n",
    "        print('')\n",
    "    else:\n",
    "        print('Pas de valeurs manquantes')\n",
    "        print('')\n",
    "\n",
    "    # Vérification\n",
    "    print('Vérification: ')\n",
    "    _manquante = _df[_column].isnull().sum()\n",
    "    print('Nombre de valeurs manquantes: ' + str(_manquante))\n",
    "    print(_df[_column].describe())\n",
    "    \n",
    "    return _df"
   ]
  },
  {
   "cell_type": "markdown",
   "id": "c081cadb",
   "metadata": {},
   "source": [
    "## Graphs"
   ]
  },
  {
   "cell_type": "code",
   "execution_count": 4,
   "id": "55973669",
   "metadata": {},
   "outputs": [],
   "source": [
    "def HorizontalBarChart(series, y_labels, bar_lenght, bar_width, xlim_min, xlim_max,\n",
    "                       xlabel, ylabel, title, annotate, _format):\n",
    "    # Plot the figure.\n",
    "    plt.figure(figsize=(bar_lenght, bar_width))\n",
    "    \n",
    "    ax = series.plot(kind='barh')\n",
    "    \n",
    "    ax.set_title(title)\n",
    "    ax.set_xlabel(xlabel)\n",
    "    ax.set_ylabel(ylabel)\n",
    "    \n",
    "    ax.set_yticklabels(y_labels)\n",
    "    ax.set_xlim(xlim_min, xlim_max) # expand xlim to make labels easier to read\n",
    "\n",
    "    rects = ax.patches\n",
    "\n",
    "    # For each bar: Place a label\n",
    "    if annotate:\n",
    "        i = -1\n",
    "        for rect in rects:\n",
    "            i += 1\n",
    "\n",
    "            # Get X and Y placement of label from rect.\n",
    "            x_value = rect.get_width()\n",
    "            y_value = rect.get_y() + rect.get_height() / 2\n",
    "\n",
    "            # Number of points between bar and label. Change to your liking.\n",
    "            space = 5\n",
    "            # Vertical alignment for positive values\n",
    "            ha = 'left'\n",
    "\n",
    "            # If value of bar is negative: Place label left of bar\n",
    "            if x_value < 0:\n",
    "                # Invert space to place label to the left\n",
    "                space *= -1\n",
    "                # Horizontally align label at right\n",
    "                ha = 'right'\n",
    "\n",
    "            # Use X value as label and format number with one decimal place\n",
    "            label = _format.format(series[i])\n",
    "\n",
    "            # Create annotation\n",
    "            plt.annotate(\n",
    "                label,                      # Use `label` as label\n",
    "                (x_value, y_value),         # Place label at end of the bar\n",
    "                xytext=(space, 0),          # Horizontally shift label by `space`\n",
    "                textcoords=\"offset points\", # Interpret `xytext` as offset in points\n",
    "                va='center',                # Vertically center label\n",
    "                ha=ha)                      # Horizontally align label differently for\n",
    "                                            # positive and negative values\n",
    "\n",
    "    plt.show()\n",
    "    \n",
    "def VerticalBarChart(_x, _y, df, _xlabel, _ylabel, _title, _format, _Save=False):\n",
    "    # Defining the plot size\n",
    "    plt.figure(figsize=(4, 4))\n",
    "\n",
    "    # Defining the values for x-axis, y-axis\n",
    "    # and from which dataframe the values are to be picked\n",
    "    plots = sns.barplot(x=_x, y=_y, data=df)\n",
    " \n",
    "    # Iterrating over the bars one-by-one\n",
    "    for bar in plots.patches:\n",
    "\n",
    "      # Using Matplotlib's annotate function and\n",
    "      # passing the coordinates where the annotation shall be done\n",
    "      # x-coordinate: bar.get_x() + bar.get_width() / 2\n",
    "      # y-coordinate: bar.get_height()\n",
    "      # free space to be left to make graph pleasing: (0, 8)\n",
    "      # ha and va stand for the horizontal and vertical alignment\n",
    "      plots.annotate(format(bar.get_height(), _format),\n",
    "                     (bar.get_x() + bar.get_width() / 2,\n",
    "                     bar.get_height()), ha='center', va='center',\n",
    "                     size=10, xytext=(0, -10),\n",
    "                     textcoords='offset points')\n",
    "\n",
    "    # Setting the label for x-axis\n",
    "    plt.xlabel(_xlabel, size=14)\n",
    "\n",
    "    # Setting the label for y-axis\n",
    "    plt.ylabel(_ylabel, size=14)\n",
    "\n",
    "    # Setting the title for the graph\n",
    "    plt.title(_title)\n",
    "    \n",
    "    if _Save:\n",
    "        plt.gcf().savefig('PSanté_01_notebooknettoyage_' + _title, dpi=100)\n",
    "\n",
    "    # Finally showing the plot\n",
    "    plt.show()"
   ]
  },
  {
   "cell_type": "markdown",
   "id": "f7a9d12f",
   "metadata": {},
   "source": [
    "## Nutri_score"
   ]
  },
  {
   "cell_type": "code",
   "execution_count": 5,
   "id": "00984792",
   "metadata": {},
   "outputs": [],
   "source": [
    "def nutri_score_calculation(df):\n",
    "    negative_points = 0\n",
    "    energy_points = 0\n",
    "    sugar_points = 0\n",
    "    fat_points = 0\n",
    "    sodium_points = 0\n",
    "              \n",
    "    positive_points = 0\n",
    "    vegies_points = 0\n",
    "    fiber_points = 0\n",
    "    protein_points = 0 \n",
    "    \n",
    "    score_final = 0\n",
    "    \n",
    "    if not isNaN(df['nutriscore_score']):\n",
    "        return df['nutriscore_score']\n",
    "    else:\n",
    "        # Points pour l'énergie\n",
    "        if not isNaN(df['energy_100g']):\n",
    "            if float(df['energy_100g']) <= 335:\n",
    "                energy_points = 0\n",
    "            elif float(df['energy_100g']) > 335:\n",
    "                negative_points = 1\n",
    "            elif float(df['energy_100g']) > 670:\n",
    "                energy_points = 2\n",
    "            elif float(df['energy_100g']) > 1005:\n",
    "                energy_points = 3\n",
    "            elif float(df['energy_100g']) > 1340:\n",
    "                energy_points = 4\n",
    "            elif float(df['energy_100g']) > 1675:\n",
    "                energy_points = 5\n",
    "            elif float(df['energy_100g']) > 2010:\n",
    "                energy_points = 6\n",
    "            elif float(df['energy_100g']) > 2345:\n",
    "                energy_points = 7\n",
    "            elif float(df['energy_100g']) > 2680:\n",
    "                energy_points = 8\n",
    "            elif float(df['energy_100g']) > 3015:\n",
    "                energy_points = 9\n",
    "            else:\n",
    "                energy_points = 10\n",
    "        else:\n",
    "            return float('NaN') # Calcul impossible\n",
    "            \n",
    "        # Points pour le sucre\n",
    "        if not isNaN(df['sugars_100g']):\n",
    "            if float(df['sugars_100g']) <= 0:\n",
    "                sugar_points = 0\n",
    "            elif float(df['sugars_100g']) <= 1.5:\n",
    "                sugar_points = 1\n",
    "            elif float(df['sugars_100g']) <= 3:\n",
    "                sugar_points = 2\n",
    "            elif float(df['sugars_100g']) <= 4.5:\n",
    "                sugar_points = 3\n",
    "            elif float(df['sugars_100g']) <= 6:\n",
    "                sugar_points = 4\n",
    "            elif float(df['sugars_100g']) <= 7.5:\n",
    "                sugar_points = 5\n",
    "            elif float(df['sugars_100g']) <= 9:\n",
    "                sugar_points = 6\n",
    "            elif float(df['sugars_100g']) <= 10.5:\n",
    "                sugar_points = 7\n",
    "            elif float(df['sugars_100g']) <= 12:\n",
    "                sugar_points = 8\n",
    "            elif float(df['sugars_100g']) <= 13.5:\n",
    "                sugar_points = 9\n",
    "            else:\n",
    "                sugar_points = 10\n",
    "        else:\n",
    "            return float('NaN') # Calcul impossible\n",
    "            \n",
    "        # Points pour les graisses\n",
    "        if not isNaN(df['saturated_fat_100g']):\n",
    "            if float(df['saturated_fat_100g']) <= 1:\n",
    "                fat_points = 0\n",
    "            elif float(df['saturated_fat_100g']) > 1:\n",
    "                fat_points = 1\n",
    "            elif float(df['saturated_fat_100g']) > 2:\n",
    "                fat_points = 2\n",
    "            elif float(df['saturated_fat_100g']) > 3:\n",
    "                fat_points = 3\n",
    "            elif float(df['saturated_fat_100g']) > 4:\n",
    "                fat_points = 4\n",
    "            elif float(df['saturated_fat_100g']) > 5:\n",
    "                fat_points = 5\n",
    "            elif float(df['saturated_fat_100g']) > 6:\n",
    "                fat_points = 6\n",
    "            elif float(df['saturated_fat_100g']) > 7:\n",
    "                fat_points = 7\n",
    "            elif float(df['saturated_fat_100g']) > 8:\n",
    "                fat_points = 8\n",
    "            elif float(df['saturated_fat_100g']) > 9:\n",
    "                fat_points = 9\n",
    "            else:\n",
    "                fat_points = 10\n",
    "        else:\n",
    "            return float('NaN') # Calcul impossible\n",
    "            \n",
    "        # Points pour le sodium\n",
    "        if not isNaN(df['sodium_100g']):\n",
    "            if float(df['sodium_100g']) <= 90:\n",
    "                sodium_points = 0\n",
    "            elif float(df['sodium_100g']) > 90:\n",
    "                sodium_points = 1\n",
    "            elif float(df['sodium_100g']) > 180:\n",
    "                sodium_points = 2\n",
    "            elif float(df['sodium_100g']) > 270:\n",
    "                sodium_points = 3\n",
    "            elif float(df['sodium_100g']) > 360:\n",
    "                sodium_points = 4\n",
    "            elif float(df['sodium_100g']) > 450:\n",
    "                sodium_points = 5\n",
    "            elif float(df['sodium_100g']) > 540:\n",
    "                sodium_points = 6\n",
    "            elif float(df['sodium_100g']) > 630:\n",
    "                sodium_points = 7\n",
    "            elif float(df['sodium_100g']) > 720:\n",
    "                sodium_points = 8\n",
    "            elif float(df['sodium_100g']) > 810:\n",
    "                sodium_points = 9\n",
    "            else:\n",
    "                sodium_points = 10\n",
    "        else:\n",
    "            return float('NaN') # Calcul impossible\n",
    "            \n",
    "        # Calcul des points négatifs\n",
    "        negative_points = energy_points + sugar_points + fat_points + sodium_points\n",
    "        \n",
    "        # Points pour les légumes\n",
    "        # df['fruits-vegetables-nuts-estimate_100g']\n",
    "        if not isNaN(df['fruits_vegetables_nuts_estimate_from_ingredients_100g']):\n",
    "            if float(df['fruits_vegetables_nuts_estimate_from_ingredients_100g']) <= 40:\n",
    "                vegies_points = 0\n",
    "            elif float(df['fruits_vegetables_nuts_estimate_from_ingredients_100g']) > 40:\n",
    "                vegies_points = 1\n",
    "            elif float(df['fruits_vegetables_nuts_estimate_from_ingredients_100g']) > 60:\n",
    "                vegies_points = 2\n",
    "            elif float(df['fruits_vegetables_nuts_estimate_from_ingredients_100g']) > 60:\n",
    "                vegies_points = 3\n",
    "            elif float(df['fruits_vegetables_nuts_estimate_from_ingredients_100g']) > 60:\n",
    "                vegies_points = 4\n",
    "            elif float(df['fruits_vegetables_nuts_estimate_from_ingredients_100g']) > 80:\n",
    "                vegies_points = 5\n",
    "        else:\n",
    "            return float('NaN') # Calcul impossible\n",
    "        \n",
    "        # Points pour les fibres\n",
    "        if not isNaN(df['fiber_100g']):\n",
    "            if float(df['fiber_100g']) <= 0.7:\n",
    "                fiber_points = 0\n",
    "            elif float(df['fiber_100g']) > 0.7:\n",
    "                fiber_points = 1\n",
    "            elif float(df['fiber_100g']) > 1.4:\n",
    "                fiber_points = 2\n",
    "            elif float(df['fiber_100g']) > 2.1:\n",
    "                fiber_points = 3\n",
    "            elif float(df['fiber_100g']) > 2.8:\n",
    "                fiber_points = 4\n",
    "            elif float(df['fiber_100g']) > 3.5:\n",
    "                fiber_points = 5\n",
    "        else:\n",
    "            return float('NaN') # Calcul impossible\n",
    "        \n",
    "        # Points pour les protéines\n",
    "        if not isNaN(df['proteins_100g']):\n",
    "            if float(df['proteins_100g']) <= 1.6:\n",
    "                protein_points = 0\n",
    "            elif float(df['proteins_100g']) > 1.6:\n",
    "                protein_points = 1\n",
    "            elif float(df['proteins_100g']) > 3.2:\n",
    "                protein_points = 2\n",
    "            elif float(df['proteins_100g']) > 4.8:\n",
    "                protein_points = 3\n",
    "            elif float(df['proteins_100g']) > 6.4:\n",
    "                protein_points = 4\n",
    "            elif float(df['proteins_100g']) > 8:\n",
    "                protein_points = 5\n",
    "        else:\n",
    "            return float('NaN') # Calcul impossible\n",
    "            \n",
    "        # Calcul des points positifs\n",
    "        positive_points = vegies_points + fiber_points + protein_points\n",
    "        \n",
    "        # Calcul du score final\n",
    "        if negative_points < 11:\n",
    "            score_final = negative_points - positive_points\n",
    "        else:\n",
    "            if vegies_points == 5:\n",
    "                score_final = negative_points - (fiber_points + vegies_points)\n",
    "            else:\n",
    "                score_final = negative_points - positive_points\n",
    "                \n",
    "        # Renvoi le nutri-score final\n",
    "        return score_final"
   ]
  },
  {
   "cell_type": "code",
   "execution_count": 6,
   "id": "431711dc",
   "metadata": {},
   "outputs": [],
   "source": [
    "def nutriscore_grade(df):\n",
    "    #nutriscore_score <= -1 - Nutriscore A\n",
    "    #nutriscore_score <= 2  - Nutriscore B\n",
    "    #nutriscore_score <= 10 - Nutriscore C\n",
    "    #nutriscore_score <= 18 - Nutriscore D\n",
    "    #nutriscore_score > 18  - Nutriscore E\n",
    "\n",
    "    if df['nutriscore_score'] <= -1:\n",
    "        return 'a'\n",
    "    elif df['nutriscore_score'] <= 2:\n",
    "        return 'b'\n",
    "    elif df['nutriscore_score'] <= 10:\n",
    "        return 'c'\n",
    "    elif df['nutriscore_score'] <= 18:\n",
    "        return 'd'\n",
    "    else:\n",
    "        return 'e'"
   ]
  },
  {
   "cell_type": "markdown",
   "id": "c4a7d455",
   "metadata": {},
   "source": [
    "## Bio_score"
   ]
  },
  {
   "cell_type": "code",
   "execution_count": 7,
   "id": "28c238d9",
   "metadata": {},
   "outputs": [],
   "source": [
    "def bioscore(df):\n",
    "    labels = str(df['labels']).lower()\n",
    "    \n",
    "    if 'bio' in labels:\n",
    "        return 'bio'\n",
    "    elif 'organic' in labels: \n",
    "        return 'bio'\n",
    "    else: \n",
    "        return 'non bio'"
   ]
  },
  {
   "cell_type": "markdown",
   "id": "3b535076",
   "metadata": {},
   "source": [
    "## Loca_score"
   ]
  },
  {
   "cell_type": "code",
   "execution_count": 8,
   "id": "bfffcfd8",
   "metadata": {},
   "outputs": [],
   "source": [
    "def locascore(df):\n",
    "    liste_pays = ['allemagne', 'autriche', 'belgique', 'bulgarie', 'chypre', 'croatie', 'danemark', \n",
    "                  'espagne', 'estonie', 'finlande', 'france', 'grèce', 'grece', 'hongrie', 'irlande',\n",
    "                  'italie', 'lettonie', 'lituanie', 'luxembourg', 'malte', 'pays-bas', 'pays bas', \n",
    "                  'hollande', 'pologne', 'portugal', 'république tchèque', 'republique tcheque',\n",
    "                  'roumanie', 'slovaquie', 'slovénie', 'suède', 'suede']\n",
    "    \n",
    "    list_countries = ['germany', 'austria', 'belgium', 'bulgaria', 'cyprus', 'croatia', 'denmark', \n",
    "                      'spain', 'estonia', 'finland', 'france', 'greece', 'hungary', 'ireland', 'italy',\n",
    "                      'latvia', 'lithuania', 'luxembourg', 'malta', 'netherlands', 'poland', 'portugal', \n",
    "                      'czech Republic', 'romania' , 'slovakia', 'slovenia', 'sweden']\n",
    "    \n",
    "    # origins_en\n",
    "    if not isNaN(df['origins_en']):\n",
    "        field = str(df['origins_en']).lower()\n",
    "    \n",
    "        if 'fr' in field:\n",
    "            return 'France'\n",
    "        elif 'europ' in field:\n",
    "            return 'Europe'\n",
    "        elif any(country in field for country in liste_pays): \n",
    "            return 'Europe'\n",
    "        elif any(country in field for country in list_countries):  \n",
    "            return 'Europe'\n",
    "        else: \n",
    "            return 'Monde'\n",
    "    else:\n",
    "        # labels\n",
    "        if not isNaN(df['labels']):\n",
    "            field = str(df['labels']).lower()\n",
    "    \n",
    "            if 'fr' in field:\n",
    "                return 'France'\n",
    "            elif 'europ' in field:\n",
    "                return 'Europe'\n",
    "            elif any(country in field for country in liste_pays): \n",
    "                return 'Europe'\n",
    "            elif any(country in field for country in list_countries):  \n",
    "                return 'Europe'\n",
    "            else: \n",
    "                return 'Monde'\n",
    "        else:\n",
    "            return 'Inconnu'"
   ]
  },
  {
   "cell_type": "markdown",
   "id": "db9f03b5",
   "metadata": {},
   "source": [
    "## Category"
   ]
  },
  {
   "cell_type": "code",
   "execution_count": 9,
   "id": "d679b35b",
   "metadata": {},
   "outputs": [],
   "source": [
    "def pnns_groups_2_switch(df):\n",
    "    if df['pnns_groups_2'] == 'unknown':\n",
    "        return pnns_groups_1_switch(df)\n",
    "    elif isNaN(df['pnns_groups_2']):\n",
    "        return pnns_groups_1_switch(df)\n",
    "    elif df['pnns_groups_2'] == 'Dressings and sauces':\n",
    "        return 'autre'\n",
    "    elif df['pnns_groups_2'] == 'One-dish meals':\n",
    "        return 'plat'\n",
    "    elif df['pnns_groups_2'] == 'Biscuits and cakes':\n",
    "        return 'dessert'\n",
    "    elif df['pnns_groups_2'] == 'Fruits':\n",
    "        return 'dessert'\n",
    "    elif df['pnns_groups_2'] == 'Meat':\n",
    "        return 'plat'\n",
    "    elif df['pnns_groups_2'] == 'Sweetened beverages':\n",
    "        return 'boisson'\n",
    "    elif df['pnns_groups_2'] == 'Cheese':\n",
    "        return 'autre'\n",
    "    elif df['pnns_groups_2'] == 'Bread':\n",
    "        return 'autre'\n",
    "    elif df['pnns_groups_2'] == 'Fish and seafood':\n",
    "        return 'plat'\n",
    "    elif df['pnns_groups_2'] == 'Sweets':\n",
    "        return 'dessert'\n",
    "    elif df['pnns_groups_2'] == 'Salty and fatty products': # !!!\n",
    "        return 'autre'\n",
    "    elif df['pnns_groups_2'] == 'Fruit juices':\n",
    "        return 'boisson'\n",
    "    elif df['pnns_groups_2'] == 'Dried fruits':\n",
    "        return 'dessert'\n",
    "    elif df['pnns_groups_2'] == 'Fats': # !!!\n",
    "        return 'autre'\n",
    "    elif df['pnns_groups_2'] == 'Dairy desserts':\n",
    "        return 'dessert'\n",
    "    elif df['pnns_groups_2'] == 'Milk and yogurt': # !!!\n",
    "        return 'autre'\n",
    "    elif df['pnns_groups_2'] == 'Pizza pies and quiches':\n",
    "        return 'plat'\n",
    "    elif df['pnns_groups_2'] == 'Legumes':\n",
    "        return 'plat'\n",
    "    elif df['pnns_groups_2'] == 'Unsweetened beverages':\n",
    "        return 'boisson'\n",
    "    elif df['pnns_groups_2'] == 'Cereals': # !!!\n",
    "        return 'autre'\n",
    "    elif df['pnns_groups_2'] == 'Alcoholic beverages':\n",
    "        return 'boisson'\n",
    "    elif df['pnns_groups_2'] == 'Nuts':\n",
    "        return 'dessert'\n",
    "    elif df['pnns_groups_2'] == 'Appetizers': # !!!\n",
    "        return 'autre'\n",
    "    elif df['pnns_groups_2'] == 'Pastries':\n",
    "        return 'dessert'\n",
    "    elif df['pnns_groups_2'] == 'Processed meat':\n",
    "        return 'plat'\n",
    "    elif df['pnns_groups_2'] == 'Vegetables':\n",
    "        return 'plat'\n",
    "    elif df['pnns_groups_2'] == 'Breakfast cereals':\n",
    "        return 'autre'\n",
    "    elif df['pnns_groups_2'] == 'Sandwiches':\n",
    "        return 'plat'\n",
    "    elif df['pnns_groups_2'] == 'Ice cream':\n",
    "        return 'dessert'\n",
    "    elif df['pnns_groups_2'] == 'Soups':\n",
    "        return 'plat'\n",
    "    elif df['pnns_groups_2'] == 'Teas and herbal teas and coffees':\n",
    "        return 'boisson'\n",
    "    elif df['pnns_groups_2'] == 'Chocolate products':\n",
    "        return 'dessert'\n",
    "    elif df['pnns_groups_2'] == 'Potatoes':\n",
    "        return 'plat'\n",
    "    elif df['pnns_groups_2'] == 'Artificially sweetened beverages':\n",
    "        return 'boisson'\n",
    "    elif df['pnns_groups_2'] == 'Eggs':\n",
    "        return 'plat'\n",
    "    elif df['pnns_groups_2'] == 'Plant-based milk substitutes': # !!!\n",
    "        return 'autre'\n",
    "    elif df['pnns_groups_2'] == 'Offals':\n",
    "        return 'plat'\n",
    "    elif df['pnns_groups_2'] == 'Waters and flavored waters':\n",
    "        return 'boisson'\n",
    "    elif df['pnns_groups_2'] == 'Fruit nectars':\n",
    "        return 'boisson'\n",
    "    elif df['pnns_groups_2'] == 'pastries':\n",
    "        return 'dessert'\n",
    "    elif df['pnns_groups_2'] == 'Pizza pies and quiche':\n",
    "        return 'plat'\n",
    "    elif df['pnns_groups_2'] == 'nan':\n",
    "        return pnns_groups_1_switch(df)\n",
    "\n",
    "# ---------------------------------------------\n",
    "\n",
    "def pnns_groups_1_switch(df):\n",
    "    if df['pnns_groups_1'] == 'unknown':\n",
    "        return 'inconnu'\n",
    "    elif isNaN(df['pnns_groups_1']):\n",
    "        return 'inconnu'\n",
    "    elif df['pnns_groups_1'] == 'Fat and sauces':\n",
    "        return 'autre'\n",
    "    elif df['pnns_groups_1'] == 'Composite foods': # !!!\n",
    "        return 'autre'\n",
    "    elif df['pnns_groups_1'] == 'Sugary snacks':\n",
    "        return 'dessert'\n",
    "    elif df['pnns_groups_1'] == 'Fruits and vegetables': # !!!\n",
    "        return 'autre'\n",
    "    elif df['pnns_groups_1'] == 'Fish Meat Eggs':\n",
    "        return 'plat'\n",
    "    elif df['pnns_groups_1'] == 'Beverages':\n",
    "        return 'boisson'\n",
    "    elif df['pnns_groups_1'] == 'Milk and dairy products': # !!!\n",
    "        return 'autre'\n",
    "    elif df['pnns_groups_1'] == 'Cereals and potatoes': # !!!\n",
    "        return 'autre'\n",
    "    elif df['pnns_groups_1'] == 'Salty snacks': # !!!\n",
    "        return 'autre'\n",
    "    elif df['pnns_groups_1'] == 'Alcoholic beverages':\n",
    "        return 'boisson'\n",
    "    elif df['pnns_groups_1'] == 'sugary-snacks':\n",
    "        return 'dessert'"
   ]
  },
  {
   "cell_type": "markdown",
   "id": "5ec5b270",
   "metadata": {},
   "source": [
    "## Food-Choose score"
   ]
  },
  {
   "cell_type": "code",
   "execution_count": 10,
   "id": "a02907be",
   "metadata": {},
   "outputs": [],
   "source": [
    "def FoodChooseScore(df):\n",
    "    score_final = 0\n",
    "\n",
    "    # Points pour le nutriscore_score\n",
    "    if float(df['nutriscore_score']) <= -1:\n",
    "        score_final += 10\n",
    "    elif float(df['nutriscore_score']) <= 2:\n",
    "        score_final += 8\n",
    "    elif float(df['nutriscore_score']) <= 10:\n",
    "        score_final += 5\n",
    "    elif float(df['nutriscore_score']) <= 18:\n",
    "        score_final += 4\n",
    "    else:\n",
    "        score_final += 3\n",
    "        \n",
    "    # Points pour le nova_group\n",
    "    if float(df['nova_group']) == 1:\n",
    "        score_final += 10\n",
    "    elif float(df['nova_group']) == 2:\n",
    "        score_final += 8\n",
    "    elif float(df['nova_group']) == 3:\n",
    "        score_final += 7\n",
    "    else:\n",
    "        score_final += 5\n",
    "        \n",
    "    # Points pour le loca_score\n",
    "    if df['loca_score'] == 'France':\n",
    "        score_final += 15\n",
    "    elif df['loca_score'] == 'Europe':\n",
    "        score_final += 10\n",
    "    else:\n",
    "        score_final += 5\n",
    "        \n",
    "    # Points pour les additifs\n",
    "    if float(df['additives_n']) <= 3:\n",
    "        score_final += 20\n",
    "    elif float(df['additives_n']) <= 7:\n",
    "        score_final += 8\n",
    "    else:\n",
    "        score_final += 2\n",
    "\n",
    "    # Points pour le bio_score\n",
    "    if df['bio_score'] == 'bio':\n",
    "        score_final += 20\n",
    "    else:\n",
    "        score_final += 10\n",
    "        \n",
    "    # Renvoi le score final\n",
    "    return score_final"
   ]
  },
  {
   "cell_type": "code",
   "execution_count": 11,
   "id": "64cfea15",
   "metadata": {},
   "outputs": [],
   "source": [
    "def fc_grade(df):\n",
    "    #fc_score <= 35 - Nutriscore E\n",
    "    #fc_score <= 45  - Nutriscore D\n",
    "    #fc_score <= 55 - Nutriscore C\n",
    "    #fc_score <= 65 - Nutriscore B\n",
    "    #fc_score > 65  - Nutriscore A\n",
    "\n",
    "    if df['fc_score'] <= 35:\n",
    "        return 'e'\n",
    "    elif df['fc_score'] <= 45:\n",
    "        return 'd'\n",
    "    elif df['fc_score'] <= 55:\n",
    "        return 'c'\n",
    "    elif df['fc_score'] <= 65:\n",
    "        return 'b'\n",
    "    else:\n",
    "        return 'a'"
   ]
  },
  {
   "cell_type": "markdown",
   "id": "e0cbf074",
   "metadata": {},
   "source": [
    "# Filtering of French data"
   ]
  },
  {
   "cell_type": "raw",
   "id": "4728b293",
   "metadata": {},
   "source": [
    "As I am working on a call for projects from the French Public Health Agency, the first step is to keep only the lines concerning products marketed in France.\n",
    "\n",
    "I treat this step first because it will reduce the number of rows in the dataset and thus increase the processing speed of future steps.\n",
    "\n",
    "For this, I have available 3 columns:\n",
    "\n",
    "    countries\n",
    "    countries_tags\n",
    "    countries_en\n",
    "    \n",
    "It is now necessary to determine which column to use for filtering."
   ]
  },
  {
   "cell_type": "markdown",
   "id": "7f1c4d62",
   "metadata": {},
   "source": [
    "## Filling rate"
   ]
  },
  {
   "cell_type": "code",
   "execution_count": 12,
   "id": "f799622b",
   "metadata": {},
   "outputs": [
    {
     "data": {
      "image/png": "[encoded data removed]",
      "text/plain": [
       "<Figure size 288x288 with 1 Axes>"
      ]
     },
     "metadata": {
      "needs_background": "light"
     },
     "output_type": "display_data"
    }
   ],
   "source": [
    "# Création d'un dictionnaire\n",
    "mydata = {\"field\": [\"countries\", \"countries_tags\", \"countries_en\"],\n",
    "        \"values\": [round((1-(len(data) - len(data['countries'].dropna()))/len(data))*100,3), \n",
    "               round((1-(len(data) - len(data['countries_tags'].dropna()))/len(data))*100,3),\n",
    "               round((1-(len(data) - len(data['countries_en'].dropna()))/len(data))*100,3)]}\n",
    " \n",
    "# Convertion du dictionnaire en dataframe pandas en spécifiant le nom des colonnes \n",
    "df = pd.DataFrame(mydata, columns=['field', 'values']) \n",
    "\n",
    "# Affichage\n",
    "VerticalBarChart('field', 'values', df, 'Champs', 'Pourcentage', 'Taux de remplissage', '.3f')"
   ]
  },
  {
   "cell_type": "markdown",
   "id": "007602e4",
   "metadata": {},
   "source": [
    "## Number of unique values available per column"
   ]
  },
  {
   "cell_type": "code",
   "execution_count": 13,
   "id": "94499b3e",
   "metadata": {},
   "outputs": [
    {
     "data": {
      "image/png": "[encoded data removed]",
      "text/plain": [
       "<Figure size 288x288 with 1 Axes>"
      ]
     },
     "metadata": {
      "needs_background": "light"
     },
     "output_type": "display_data"
    }
   ],
   "source": [
    "# Création d'un dictionnaire\n",
    "mydata = {\"field\": [\"countries\", \"countries_tags\", \"countries_en\"],\n",
    "          \"values\": [len(Create_dictionary(data, 'countries', ',')), \n",
    "                     len(Create_dictionary(data, 'countries_tags', ',')),\n",
    "                     len(Create_dictionary(data, 'countries_en', ','))]}\n",
    " \n",
    "# Convertion du dictionnaire en dataframe pandas en spécifiant le nom des colonnes \n",
    "df = pd.DataFrame(mydata, columns=['field', 'values']) \n",
    "\n",
    "# Affichage\n",
    "VerticalBarChart('field', 'values', df, 'Champs', '', 'Nombre de valeurs disponibles', '.0f')"
   ]
  },
  {
   "cell_type": "raw",
   "id": "5614e0ea",
   "metadata": {},
   "source": [
    "The filling rates for each column are almost identical.\n",
    "\n",
    "On the other hand, there are 195 countries in the world but there are 2903 distinct values in the countries column due to a mix of different languages and different formats.\n",
    "\n",
    "The countries_tags and countries_en columns also contain too many values but are more homogeneous.\n",
    "\n",
    "For filtering, I will prefer the countries_en column whose format is more homogeneous."
   ]
  },
  {
   "cell_type": "markdown",
   "id": "2376b267",
   "metadata": {},
   "source": [
    "## Filtering data"
   ]
  },
  {
   "cell_type": "code",
   "execution_count": 14,
   "id": "9f83a877",
   "metadata": {
    "scrolled": true
   },
   "outputs": [],
   "source": [
    "data_france = DataFilter(data, 'countries_en', 'France')"
   ]
  },
  {
   "cell_type": "markdown",
   "id": "533a0f16",
   "metadata": {},
   "source": [
    "## Deleting columns after filtering"
   ]
  },
  {
   "cell_type": "code",
   "execution_count": 15,
   "id": "7c31d486",
   "metadata": {},
   "outputs": [
    {
     "name": "stdout",
     "output_type": "stream",
     "text": [
      "Nombre de colonnes: 184\n",
      "Nombre de lignes: 849708\n"
     ]
    }
   ],
   "source": [
    "data_france = Drop_column(data_france, 'countries') \n",
    "data_france = Drop_column(data_france, 'countries_tags') \n",
    "data_france = Drop_column(data_france, 'countries_en')\n",
    "\n",
    "print('Nombre de colonnes: ' + str(len(data_france.columns)))\n",
    "print('Nombre de lignes: ' + str(len(data_france)))"
   ]
  },
  {
   "cell_type": "raw",
   "id": "0fbfc2f0",
   "metadata": {},
   "source": [
    "The dataset (data_france) now contains 184 columns and 849,708 rows.\n",
    "\n",
    "If I cross-reference my result with the data on the Open Food Facts France site (https://fr.openfoodfacts.org/) I see that the number of lines for the French data is of the same order of magnitude. So my filtering is correct."
   ]
  },
  {
   "cell_type": "markdown",
   "id": "e91c841b",
   "metadata": {},
   "source": [
    "# Processing duplicates"
   ]
  },
  {
   "cell_type": "markdown",
   "id": "a063d333",
   "metadata": {},
   "source": [
    "## Same code"
   ]
  },
  {
   "cell_type": "code",
   "execution_count": 16,
   "id": "440eeafb",
   "metadata": {},
   "outputs": [
    {
     "name": "stdout",
     "output_type": "stream",
     "text": [
      "Nombre de colonnes: 184\n",
      "Nombre de lignes: 849701\n"
     ]
    }
   ],
   "source": [
    "data_france.drop_duplicates(subset ='code', keep = 'first', inplace=True)\n",
    "\n",
    "print('Nombre de colonnes: ' + str(len(data_france.columns)))\n",
    "print('Nombre de lignes: ' + str(len(data_france)))"
   ]
  },
  {
   "cell_type": "raw",
   "id": "95147398",
   "metadata": {},
   "source": [
    "7 duplicate lines with the same item code have been deleted."
   ]
  },
  {
   "cell_type": "markdown",
   "id": "2920b043",
   "metadata": {},
   "source": [
    "## Same name / brand"
   ]
  },
  {
   "cell_type": "code",
   "execution_count": 17,
   "id": "71380397",
   "metadata": {},
   "outputs": [
    {
     "name": "stdout",
     "output_type": "stream",
     "text": [
      "Nombre de colonnes: 184\n",
      "Nombre de lignes: 676616\n"
     ]
    }
   ],
   "source": [
    "data_france.drop_duplicates(subset = ['product_name', 'brands'], keep = 'first', inplace=True)\n",
    "\n",
    "print('Nombre de colonnes: ' + str(len(data_france.columns)))\n",
    "print('Nombre de lignes: ' + str(len(data_france)))"
   ]
  },
  {
   "cell_type": "raw",
   "id": "37f7e93d",
   "metadata": {},
   "source": [
    "173,085 duplicate lines, ie with the same product name and the same brand, have been deleted."
   ]
  },
  {
   "cell_type": "raw",
   "id": "82cecceb",
   "metadata": {},
   "source": [
    "The dataset (data_france) now contains 184 columns and 676,616 rows."
   ]
  },
  {
   "cell_type": "markdown",
   "id": "526e221b",
   "metadata": {},
   "source": [
    "# Columns with filling rate < 25%"
   ]
  },
  {
   "cell_type": "raw",
   "id": "20655f49",
   "metadata": {},
   "source": [
    "I decide to delete the columns with a filling rate lower than 25%.\n",
    "\n",
    "I however reintegrate the columns below with a lower rate but essential for the calculation of the different scores:\n",
    "\n",
    "fiber_100g\n",
    "origins_en"
   ]
  },
  {
   "cell_type": "markdown",
   "id": "913bab8b",
   "metadata": {},
   "source": [
    "## Remove columns"
   ]
  },
  {
   "cell_type": "code",
   "execution_count": 18,
   "id": "6f32d774",
   "metadata": {
    "scrolled": true
   },
   "outputs": [
    {
     "name": "stdout",
     "output_type": "stream",
     "text": [
      "Nombre de colonnes: 52\n",
      "Nombre de lignes: 676616\n"
     ]
    }
   ],
   "source": [
    "columns_list = Get_coverageRate_ByColumn(data_france, 25, False)\n",
    "\n",
    "columns_list.remove('fiber_100g')\n",
    "columns_list.remove('origins_en')\n",
    "\n",
    "for item in columns_list:\n",
    "    data_france = Drop_column(data_france, item) \n",
    "\n",
    "print('Nombre de colonnes: ' + str(len(data_france.columns)))\n",
    "print('Nombre de lignes: ' + str(len(data_france)))"
   ]
  },
  {
   "cell_type": "raw",
   "id": "73ac28bf",
   "metadata": {},
   "source": [
    "The dataset (data_france) now contains 52 columns and 676,616 rows."
   ]
  },
  {
   "cell_type": "markdown",
   "id": "92a39a56",
   "metadata": {},
   "source": [
    "# Columns with filling rate >= 25%"
   ]
  },
  {
   "cell_type": "code",
   "execution_count": 19,
   "id": "55ca951a",
   "metadata": {
    "scrolled": true
   },
   "outputs": [
    {
     "name": "stdout",
     "output_type": "stream",
     "text": [
      "Index(['code', 'url', 'creator', 'created_t', 'created_datetime',\n",
      "       'last_modified_t', 'last_modified_datetime', 'product_name', 'quantity',\n",
      "       'packaging', 'packaging_tags', 'brands', 'brands_tags', 'categories',\n",
      "       'categories_tags', 'categories_en', 'origins_en', 'labels',\n",
      "       'labels_tags', 'labels_en', 'ingredients_text', 'additives_n',\n",
      "       'ingredients_from_palm_oil_n',\n",
      "       'ingredients_that_may_be_from_palm_oil_n', 'nutriscore_score',\n",
      "       'nutriscore_grade', 'nova_group', 'pnns_groups_1', 'pnns_groups_2',\n",
      "       'states', 'states_tags', 'states_en', 'main_category',\n",
      "       'main_category_en', 'image_url', 'image_small_url',\n",
      "       'image_ingredients_url', 'image_ingredients_small_url',\n",
      "       'image_nutrition_url', 'image_nutrition_small_url', 'energy-kcal_100g',\n",
      "       'energy_100g', 'fat_100g', 'saturated-fat_100g', 'carbohydrates_100g',\n",
      "       'sugars_100g', 'fiber_100g', 'proteins_100g', 'salt_100g',\n",
      "       'sodium_100g', 'fruits-vegetables-nuts-estimate-from-ingredients_100g',\n",
      "       'nutrition-score-fr_100g'],\n",
      "      dtype='object')\n"
     ]
    }
   ],
   "source": [
    "print(data_france.columns)"
   ]
  },
  {
   "cell_type": "raw",
   "id": "de61d45f",
   "metadata": {},
   "source": [
    "To facilitate the analysis, I proceed to a manual grouping of the remaining columns in 2 categories (useful / useless). For this, I rely on:\n",
    "\n",
    "    - their name\n",
    "    - their description (see https://world.openfoodfacts.org/data/data-fields.txt)\n",
    "    - their content\n",
    "\n",
    "For the nutriscore, I only keep the columns useful for the calculation (see https://quoidansmonplate.fr/comment-est-calcule-le-nutri-score-logo-nutritionnel/)\n",
    "      \n",
    "-------------------------------------------\n",
    "Useless columns\n",
    "-------------------------------------------\n",
    "'url', 'creator', 'created_t', 'created_datetime', 'last_modified_t', 'last_modified_datetime', 'quantity', 'packaging', 'packaging_tags', 'brands', 'brands_tags', 'categories', 'categories_tags', 'categories_en', 'nutriscore_grade', 'states', 'states_tags', 'states_en', 'main_category',\n",
    "'main_category_en', 'image_url', 'image_small_url', 'image_ingredients_url', 'image_ingredients_small_url', 'image_nutrition_url', 'image_nutrition_small_url'     \n",
    "\n",
    "-------------------------------------------\n",
    "Usefull columns\n",
    "-------------------------------------------\n",
    "'code', 'product_name', 'origins_en', 'labels', 'labels_tags', 'labels_en', 'ingredients_text', 'additives_n', 'ingredients_from_palm_oil_n', 'ingredients_that_may_be_from_palm_oil_n', 'nutriscore_score', 'nova_group', 'pnns_groups_1', 'pnns_groups_2', 'energy_100g', 'fat_100g', 'saturated-fat_100g', 'carbohydrates_100g', 'sugars_100g', 'fiber_100g', 'proteins_100g', 'salt_100g',\n",
    "'sodium_100g', 'fruits-vegetables-nuts-estimate-from-ingredients_100g'     \n",
    "\n",
    "-------------------------------------------\n",
    "Redondant columns\n",
    "-------------------------------------------\n",
    "'energy-kcal_100g', 'nutrition-score-fr_100g'"
   ]
  },
  {
   "cell_type": "markdown",
   "id": "d958157f",
   "metadata": {},
   "source": [
    "## Remove useless columns"
   ]
  },
  {
   "cell_type": "code",
   "execution_count": 20,
   "id": "570fb7f5",
   "metadata": {},
   "outputs": [
    {
     "name": "stdout",
     "output_type": "stream",
     "text": [
      "Nombre de colonnes: 26\n",
      "Nombre de lignes: 676616\n"
     ]
    }
   ],
   "source": [
    "Dropped_col_list = ['url', 'creator', 'created_t', 'created_datetime', 'last_modified_t', \n",
    "                    'last_modified_datetime', 'quantity', 'packaging', 'packaging_tags', 'brands', \n",
    "                    'brands_tags', 'categories', 'categories_tags', 'categories_en', \n",
    "                    'nutriscore_grade', 'states', 'states_tags', 'states_en', 'main_category', \n",
    "                    'main_category_en', 'image_url', 'image_small_url', 'image_ingredients_url', \n",
    "                    'image_ingredients_small_url', 'image_nutrition_url', 'image_nutrition_small_url'\n",
    "                   ]\n",
    "  \n",
    "for item in Dropped_col_list:\n",
    "    data_france = Drop_column(data_france, item)\n",
    "\n",
    "print('Nombre de colonnes: ' + str(len(data_france.columns)))\n",
    "print('Nombre de lignes: ' + str(len(data_france)))"
   ]
  },
  {
   "cell_type": "markdown",
   "id": "dd7fa718",
   "metadata": {},
   "source": [
    "## Remove redundant columns"
   ]
  },
  {
   "cell_type": "code",
   "execution_count": 21,
   "id": "91b5eae8",
   "metadata": {
    "scrolled": true
   },
   "outputs": [
    {
     "name": "stdout",
     "output_type": "stream",
     "text": [
      "Nombre de colonnes: 24\n",
      "Nombre de lignes: 676616\n"
     ]
    }
   ],
   "source": [
    "Dropped_col_list = ['energy-kcal_100g', 'nutrition-score-fr_100g']\n",
    "  \n",
    "for item in Dropped_col_list:\n",
    "    data_france = Drop_column(data_france, item)\n",
    "\n",
    "print('Nombre de colonnes: ' + str(len(data_france.columns)))\n",
    "print('Nombre de lignes: ' + str(len(data_france)))"
   ]
  },
  {
   "cell_type": "raw",
   "id": "108d3a75",
   "metadata": {},
   "source": [
    "The dataset (data_france) now contains 24 columns and 676,616 rows."
   ]
  },
  {
   "cell_type": "markdown",
   "id": "7e4ef395",
   "metadata": {},
   "source": [
    "## Review of useful columns"
   ]
  },
  {
   "cell_type": "raw",
   "id": "ba9622f3",
   "metadata": {},
   "source": [
    "I standardize the name of the columns by replacing - by _."
   ]
  },
  {
   "cell_type": "code",
   "execution_count": 22,
   "id": "11ab4597",
   "metadata": {},
   "outputs": [],
   "source": [
    "data_france = data_france.rename(\n",
    "    columns={\"saturated-fat_100g\": \"saturated_fat_100g\", \n",
    "             \"fruits-vegetables-nuts-estimate-from-ingredients_100g\": \"fruits_vegetables_nuts_estimate_from_ingredients_100g\",\n",
    "             \"carbon-footprint-from-meat-or-fish_100g\": \"carbon_footprint_from_meat_or_fish_100g\"\n",
    "            })"
   ]
  },
  {
   "cell_type": "markdown",
   "id": "b6568d36",
   "metadata": {},
   "source": [
    "### Qualitative variables"
   ]
  },
  {
   "cell_type": "markdown",
   "id": "f8657370",
   "metadata": {},
   "source": [
    "#### code"
   ]
  },
  {
   "cell_type": "code",
   "execution_count": 23,
   "id": "683edd4e",
   "metadata": {},
   "outputs": [
    {
     "data": {
      "text/plain": [
       "0"
      ]
     },
     "execution_count": 23,
     "metadata": {},
     "output_type": "execute_result"
    }
   ],
   "source": [
    "data_france.code.isnull().sum()"
   ]
  },
  {
   "cell_type": "raw",
   "id": "8635f35b",
   "metadata": {},
   "source": [
    "No missing code."
   ]
  },
  {
   "cell_type": "markdown",
   "id": "3eb1ba51",
   "metadata": {},
   "source": [
    "#### product_name"
   ]
  },
  {
   "cell_type": "code",
   "execution_count": 24,
   "id": "3469b0bb",
   "metadata": {},
   "outputs": [
    {
     "data": {
      "text/plain": [
       "2868"
      ]
     },
     "execution_count": 24,
     "metadata": {},
     "output_type": "execute_result"
    }
   ],
   "source": [
    "data_france.product_name.isnull().sum()"
   ]
  },
  {
   "cell_type": "raw",
   "id": "b207009f",
   "metadata": {},
   "source": [
    "The column product_name, qualitative variable, contains missing values. I delete them."
   ]
  },
  {
   "cell_type": "code",
   "execution_count": 25,
   "id": "ba903524",
   "metadata": {},
   "outputs": [
    {
     "name": "stdout",
     "output_type": "stream",
     "text": [
      "Nombre de colonnes: 24\n",
      "Nombre de lignes: 673748\n"
     ]
    }
   ],
   "source": [
    "data_france = DataFilterNA(data_france, 'product_name')\n",
    "\n",
    "print('Nombre de colonnes: ' + str(len(data_france.columns)))\n",
    "print('Nombre de lignes: ' + str(len(data_france)))"
   ]
  },
  {
   "cell_type": "markdown",
   "id": "b22c503b",
   "metadata": {},
   "source": [
    "#### labels, labels_tags et labels_en"
   ]
  },
  {
   "cell_type": "markdown",
   "id": "aabbf0f2",
   "metadata": {},
   "source": [
    "##### Taux de remplissage"
   ]
  },
  {
   "cell_type": "code",
   "execution_count": 26,
   "id": "518f8590",
   "metadata": {},
   "outputs": [
    {
     "data": {
      "image/png": "[encoded data removed]",
      "text/plain": [
       "<Figure size 576x144 with 1 Axes>"
      ]
     },
     "metadata": {
      "needs_background": "light"
     },
     "output_type": "display_data"
    }
   ],
   "source": [
    "percentages = [round((1-(len(data_france) - len(data_france['labels'].dropna()))/len(data_france))*100,3), \n",
    "               round((1-(len(data_france) - len(data_france['labels_tags'].dropna()))/len(data_france))*100,3),\n",
    "               round((1-(len(data_france) - len(data_france['labels_en'].dropna()))/len(data_france))*100,3),\n",
    "              ]\n",
    "\n",
    "series = pd.Series(percentages)\n",
    "\n",
    "y_labels = ['labels', 'labels_tags', 'labels_en']\n",
    "\n",
    "HorizontalBarChart(series, y_labels, 8, 2, 0, 100, \n",
    "                   'Pourcentage', 'Champs', 'Taux de remplissage', True, \"{:.3f}\")"
   ]
  },
  {
   "cell_type": "markdown",
   "id": "3cb21c0b",
   "metadata": {},
   "source": [
    "##### Analysis of overlapping"
   ]
  },
  {
   "cell_type": "raw",
   "id": "17dc876c",
   "metadata": {},
   "source": [
    "The filling rate being identical for each column, I check that there is indeed overlap, ie that it is indeed the same lines which are filled in for the 3 fields."
   ]
  },
  {
   "cell_type": "code",
   "execution_count": 27,
   "id": "317df4d1",
   "metadata": {},
   "outputs": [
    {
     "data": {
      "text/plain": [
       "count                                                     2\n",
       "unique                                                    1\n",
       "top       en:carbon-footprint,en:carbon-footprint,en:car...\n",
       "freq                                                      2\n",
       "Name: labels_tags, dtype: object"
      ]
     },
     "execution_count": 27,
     "metadata": {},
     "output_type": "execute_result"
    }
   ],
   "source": [
    "data_france.loc[data_france[\"labels\"].isnull(),\"labels_tags\"].describe()"
   ]
  },
  {
   "cell_type": "code",
   "execution_count": 28,
   "id": "3d80ed56",
   "metadata": {},
   "outputs": [
    {
     "data": {
      "text/plain": [
       "count                                                     2\n",
       "unique                                                    1\n",
       "top       Carbon footprint,Carbon footprint,Carbon footp...\n",
       "freq                                                      2\n",
       "Name: labels_en, dtype: object"
      ]
     },
     "execution_count": 28,
     "metadata": {},
     "output_type": "execute_result"
    }
   ],
   "source": [
    "data_france.loc[data_france[\"labels\"].isnull(),\"labels_en\"].describe()"
   ]
  },
  {
   "cell_type": "code",
   "execution_count": 29,
   "id": "d4e4cff1",
   "metadata": {},
   "outputs": [
    {
     "data": {
      "text/plain": [
       "count       0\n",
       "unique      0\n",
       "top       NaN\n",
       "freq      NaN\n",
       "Name: labels_en, dtype: object"
      ]
     },
     "execution_count": 29,
     "metadata": {},
     "output_type": "execute_result"
    }
   ],
   "source": [
    "data_france.loc[data_france[\"labels_tags\"].isnull(),\"labels_en\"].describe()"
   ]
  },
  {
   "cell_type": "raw",
   "id": "157985c6",
   "metadata": {},
   "source": [
    "Except for 4 rows, the 3 columns relate to exactly the same rows.\n",
    "I keep the labels column which is mostly in French.\n",
    "\n",
    "In order to be able to identify organic and non-organic products, I base myself on the labels field to create the new bio_score column by applying the algorithm of the bioscore function."
   ]
  },
  {
   "cell_type": "code",
   "execution_count": 30,
   "id": "cb5d887f",
   "metadata": {},
   "outputs": [],
   "source": [
    "data_france['bio_score'] = data_france.apply(bioscore,axis=1)"
   ]
  },
  {
   "cell_type": "raw",
   "id": "2b1000cb",
   "metadata": {},
   "source": [
    "I delete the columns that will no longer serve me."
   ]
  },
  {
   "cell_type": "code",
   "execution_count": 31,
   "id": "f555ec80",
   "metadata": {},
   "outputs": [
    {
     "name": "stdout",
     "output_type": "stream",
     "text": [
      "Nombre de colonnes: 23\n",
      "Nombre de lignes: 673748\n"
     ]
    }
   ],
   "source": [
    "data_france = Drop_column(data_france, 'labels_tags') \n",
    "data_france = Drop_column(data_france, 'labels_en') \n",
    "\n",
    "print('Nombre de colonnes: ' + str(len(data_france.columns)))\n",
    "print('Nombre de lignes: ' + str(len(data_france)))"
   ]
  },
  {
   "cell_type": "markdown",
   "id": "032ffb6a",
   "metadata": {},
   "source": [
    "#### ingredients_text"
   ]
  },
  {
   "cell_type": "code",
   "execution_count": 32,
   "id": "ecb65735",
   "metadata": {
    "scrolled": true
   },
   "outputs": [
    {
     "data": {
      "image/png": "[encoded data removed]",
      "text/plain": [
       "<Figure size 288x288 with 1 Axes>"
      ]
     },
     "metadata": {
      "needs_background": "light"
     },
     "output_type": "display_data"
    }
   ],
   "source": [
    "# Création d'un dictionnaire\n",
    "mydata = {\"field\": ['ingredients_text'],\n",
    "        \"values\": [round((1-(len(data_france) - len(data_france['ingredients_text'].dropna()))/len(data_france))*100,3)]}\n",
    " \n",
    "# Convertion du dictionnaire en dataframe pandas en spécifiant le nom des colonnes \n",
    "df = pd.DataFrame(mydata, columns=['field', 'values']) \n",
    "\n",
    "# Affichage\n",
    "VerticalBarChart('field', 'values', df, 'Champs', 'Pourcentage', 'Taux de remplissage', '.3f', True)"
   ]
  },
  {
   "cell_type": "raw",
   "id": "2f5d7af8",
   "metadata": {},
   "source": [
    "The filter on the ingredients being an important element of the application, I keep only the lines where the variable ingredients_text is filled."
   ]
  },
  {
   "cell_type": "code",
   "execution_count": 33,
   "id": "206422e0",
   "metadata": {},
   "outputs": [
    {
     "name": "stdout",
     "output_type": "stream",
     "text": [
      "Nombre de colonnes: 23\n",
      "Nombre de lignes: 237663\n"
     ]
    }
   ],
   "source": [
    "data_france = DataFilterNA(data_france, 'ingredients_text')\n",
    "\n",
    "print('Nombre de colonnes: ' + str(len(data_france.columns)))\n",
    "print('Nombre de lignes: ' + str(len(data_france)))"
   ]
  },
  {
   "cell_type": "markdown",
   "id": "0ec79b08",
   "metadata": {},
   "source": [
    "#### origins_en"
   ]
  },
  {
   "cell_type": "code",
   "execution_count": 34,
   "id": "b7a421c9",
   "metadata": {},
   "outputs": [
    {
     "data": {
      "text/plain": [
       "195803"
      ]
     },
     "execution_count": 34,
     "metadata": {},
     "output_type": "execute_result"
    }
   ],
   "source": [
    "data_france.origins_en.isnull().sum()"
   ]
  },
  {
   "cell_type": "raw",
   "id": "10bcf0f5",
   "metadata": {},
   "source": [
    "In order to be able to group the products by place of manufacture, I create a new column named loca_score by applying the algorithm of the locascore function.\n",
    "As the origins_en column has a lot of missing data, I incorporate the labels data into the algorithm."
   ]
  },
  {
   "cell_type": "code",
   "execution_count": 35,
   "id": "178686fe",
   "metadata": {},
   "outputs": [
    {
     "name": "stdout",
     "output_type": "stream",
     "text": [
      "Nombre de colonnes: 24\n",
      "Nombre de lignes: 237663\n"
     ]
    }
   ],
   "source": [
    "data_france['loca_score'] = data_france.apply(locascore,axis=1)        \n",
    "\n",
    "print('Nombre de colonnes: ' + str(len(data_france.columns)))\n",
    "print('Nombre de lignes: ' + str(len(data_france)))"
   ]
  },
  {
   "cell_type": "code",
   "execution_count": 36,
   "id": "77781604",
   "metadata": {},
   "outputs": [
    {
     "data": {
      "text/plain": [
       "96229"
      ]
     },
     "execution_count": 36,
     "metadata": {},
     "output_type": "execute_result"
    }
   ],
   "source": [
    "(data_france.loca_score=='Inconnu').sum()"
   ]
  },
  {
   "cell_type": "raw",
   "id": "992f1f71",
   "metadata": {},
   "source": [
    "I delete rows for which the loca_score is unknown."
   ]
  },
  {
   "cell_type": "code",
   "execution_count": 37,
   "id": "e31e951b",
   "metadata": {},
   "outputs": [],
   "source": [
    "data_france = data_france[ ~data_france['loca_score'].str.contains('Inconnu') ]"
   ]
  },
  {
   "cell_type": "raw",
   "id": "f88babc9",
   "metadata": {},
   "source": [
    "I delete the columns that will no longer serve me."
   ]
  },
  {
   "cell_type": "code",
   "execution_count": 38,
   "id": "e3f4fbe5",
   "metadata": {},
   "outputs": [
    {
     "name": "stdout",
     "output_type": "stream",
     "text": [
      "Nombre de colonnes: 22\n",
      "Nombre de lignes: 141434\n"
     ]
    }
   ],
   "source": [
    "data_france = Drop_column(data_france, 'origins_en')\n",
    "data_france = Drop_column(data_france, 'labels') \n",
    "\n",
    "print('Nombre de colonnes: ' + str(len(data_france.columns)))\n",
    "print('Nombre de lignes: ' + str(len(data_france)))"
   ]
  },
  {
   "cell_type": "markdown",
   "id": "3ac92897",
   "metadata": {},
   "source": [
    "#### pnns_groups_1 & pnns_groups_2"
   ]
  },
  {
   "cell_type": "code",
   "execution_count": 41,
   "id": "78037356",
   "metadata": {
    "scrolled": true
   },
   "outputs": [
    {
     "data": {
      "image/png": "[encoded data removed]",
      "text/plain": [
       "<Figure size 576x144 with 1 Axes>"
      ]
     },
     "metadata": {
      "needs_background": "light"
     },
     "output_type": "display_data"
    }
   ],
   "source": [
    "groupby = data_france.groupby('pnns_groups_1').size()\n",
    "\n",
    "nb_entries = []\n",
    "for i in range(0,len(groupby)):\n",
    "    nb_entries.append(groupby[i])\n",
    "    \n",
    "series = pd.Series(nb_entries)\n",
    "\n",
    "y_labels = data_france['pnns_groups_1'].dropna().unique()\n",
    "\n",
    "HorizontalBarChart(series, y_labels, 8, 2, 0, 30000, \n",
    "                   'Occurences', 'Valeurs', 'pnns_groups_1', \n",
    "                   True, \"{:.0f}\")"
   ]
  },
  {
   "cell_type": "code",
   "execution_count": 42,
   "id": "835a8954",
   "metadata": {},
   "outputs": [
    {
     "data": {
      "text/plain": [
       "1"
      ]
     },
     "execution_count": 42,
     "metadata": {},
     "output_type": "execute_result"
    }
   ],
   "source": [
    "data_france.pnns_groups_1.isnull().sum()"
   ]
  },
  {
   "cell_type": "code",
   "execution_count": 44,
   "id": "b0101648",
   "metadata": {},
   "outputs": [
    {
     "data": {
      "image/png": "[encoded data removed]",
      "text/plain": [
       "<Figure size 576x576 with 1 Axes>"
      ]
     },
     "metadata": {
      "needs_background": "light"
     },
     "output_type": "display_data"
    }
   ],
   "source": [
    "groupby = data_france.groupby('pnns_groups_2').size()\n",
    "\n",
    "nb_entries = []\n",
    "for i in range(0,len(groupby)):\n",
    "    nb_entries.append(groupby[i])\n",
    "    \n",
    "series = pd.Series(nb_entries)\n",
    "\n",
    "y_labels = data_france['pnns_groups_2'].dropna().unique()\n",
    "\n",
    "HorizontalBarChart(series, y_labels, 8, 8, 0, 30000, \n",
    "                   'Occurences', 'Valeurs', 'pnns_groups_2', \n",
    "                   True, \"{:.0f}\")"
   ]
  },
  {
   "cell_type": "code",
   "execution_count": 45,
   "id": "a5af2e5f",
   "metadata": {},
   "outputs": [
    {
     "data": {
      "text/plain": [
       "0"
      ]
     },
     "execution_count": 45,
     "metadata": {},
     "output_type": "execute_result"
    }
   ],
   "source": [
    "data_france.pnns_groups_2.isnull().sum()"
   ]
  },
  {
   "cell_type": "raw",
   "id": "8d099cf0",
   "metadata": {},
   "source": [
    "I remove rows where pnns_groups_1 is empty."
   ]
  },
  {
   "cell_type": "code",
   "execution_count": 46,
   "id": "baa0e6ee",
   "metadata": {},
   "outputs": [
    {
     "name": "stdout",
     "output_type": "stream",
     "text": [
      "Nombre de colonnes: 22\n",
      "Nombre de lignes: 141433\n"
     ]
    }
   ],
   "source": [
    "data_france = DataFilterNA(data_france, 'pnns_groups_1')\n",
    "\n",
    "print('Nombre de colonnes: ' + str(len(data_france.columns)))\n",
    "print('Nombre de lignes: ' + str(len(data_france)))"
   ]
  },
  {
   "cell_type": "raw",
   "id": "0a95ce39",
   "metadata": {},
   "source": [
    "In order to be able to group the products according to the categories necessary for the application, I base myself on the pnns_groups_1 and pnns_groups_2 fields to create a new column named category by applying the algorithm of the pnns_groups_2_switch function.\n",
    "\n",
    "During this operation, missing or unknown values ​​will all be tagged as unknown.\n",
    "They will be filtered later."
   ]
  },
  {
   "cell_type": "code",
   "execution_count": 47,
   "id": "a4c8b38f",
   "metadata": {},
   "outputs": [],
   "source": [
    "data_france['category'] = data_france.apply(pnns_groups_2_switch,axis=1)"
   ]
  },
  {
   "cell_type": "code",
   "execution_count": 48,
   "id": "d3340e69",
   "metadata": {
    "scrolled": true
   },
   "outputs": [
    {
     "name": "stdout",
     "output_type": "stream",
     "text": [
      "Nombre de colonnes: 23\n",
      "Nombre de lignes: 113280\n"
     ]
    }
   ],
   "source": [
    "data_france = data_france[ ~data_france['category'].str.contains('inconnu') ]\n",
    "\n",
    "print('Nombre de colonnes: ' + str(len(data_france.columns)))\n",
    "print('Nombre de lignes: ' + str(len(data_france)))"
   ]
  },
  {
   "cell_type": "raw",
   "id": "3ff00287",
   "metadata": {},
   "source": [
    "I delete the columns that will no longer serve me"
   ]
  },
  {
   "cell_type": "code",
   "execution_count": 49,
   "id": "4dc3abe1",
   "metadata": {},
   "outputs": [
    {
     "name": "stdout",
     "output_type": "stream",
     "text": [
      "Nombre de colonnes: 21\n",
      "Nombre de lignes: 113280\n"
     ]
    }
   ],
   "source": [
    "data_france = Drop_column(data_france, 'pnns_groups_1') \n",
    "data_france = Drop_column(data_france, 'pnns_groups_2') \n",
    "\n",
    "print('Nombre de colonnes: ' + str(len(data_france.columns)))\n",
    "print('Nombre de lignes: ' + str(len(data_france)))"
   ]
  },
  {
   "cell_type": "markdown",
   "id": "1c46de24",
   "metadata": {},
   "source": [
    "### Quantitative variables"
   ]
  },
  {
   "cell_type": "markdown",
   "id": "a33c2dc1",
   "metadata": {},
   "source": [
    "#### additives_n"
   ]
  },
  {
   "cell_type": "code",
   "execution_count": 50,
   "id": "beedaefd",
   "metadata": {},
   "outputs": [
    {
     "name": "stdout",
     "output_type": "stream",
     "text": [
      "Nombre de valeurs manquantes: 0\n",
      "\n",
      "Liste des valeurs possibles: \n",
      "[ 0.  2.  4.  1.  3.  7.  5. 11.  6. 10.  8. 13.  9. 16. 17. 14. 15. 12.\n",
      " 19. 20. 18. 22. 28. 24. 21. 25.]\n",
      "\n",
      "Mesures: \n",
      "count    113280.000000\n",
      "mean          1.457071\n",
      "std           2.264900\n",
      "min           0.000000\n",
      "25%           0.000000\n",
      "50%           0.000000\n",
      "75%           2.000000\n",
      "max          28.000000\n",
      "Name: additives_n, dtype: float64\n"
     ]
    }
   ],
   "source": [
    "revue_Quantitative_Discrete(data_france, 'additives_n')"
   ]
  },
  {
   "cell_type": "raw",
   "id": "e3524b28",
   "metadata": {},
   "source": [
    "The variable additives_n is a discrete quantitative variable corresponding to the number of additives present.\n",
    "No missing values.\n",
    "No outliers and I can't determine if 28 is an outlier."
   ]
  },
  {
   "cell_type": "markdown",
   "id": "741215ab",
   "metadata": {},
   "source": [
    "#### ingredients_from_palm_oil_n"
   ]
  },
  {
   "cell_type": "code",
   "execution_count": 51,
   "id": "5afdf52b",
   "metadata": {},
   "outputs": [
    {
     "name": "stdout",
     "output_type": "stream",
     "text": [
      "Nombre de valeurs manquantes: 0\n",
      "\n",
      "Liste des valeurs possibles: \n",
      "[0. 1. 2.]\n",
      "\n",
      "Mesures: \n",
      "count    113280.000000\n",
      "mean          0.037288\n",
      "std           0.192151\n",
      "min           0.000000\n",
      "25%           0.000000\n",
      "50%           0.000000\n",
      "75%           0.000000\n",
      "max           2.000000\n",
      "Name: ingredients_from_palm_oil_n, dtype: float64\n"
     ]
    }
   ],
   "source": [
    "revue_Quantitative_Discrete(data_france, 'ingredients_from_palm_oil_n')"
   ]
  },
  {
   "cell_type": "raw",
   "id": "01f1a1a1",
   "metadata": {},
   "source": [
    "The ingredients_from_palm_oil_n variable is a discrete quantitative variable corresponding to the number of ingredients from palm oil.\n",
    "No missing values.\n",
    "No outliers and no atypical values."
   ]
  },
  {
   "cell_type": "markdown",
   "id": "e7655bb3",
   "metadata": {},
   "source": [
    "#### ingredients_that_may_be_from_palm_oil_n"
   ]
  },
  {
   "cell_type": "code",
   "execution_count": 52,
   "id": "a128e1c8",
   "metadata": {},
   "outputs": [
    {
     "name": "stdout",
     "output_type": "stream",
     "text": [
      "Nombre de valeurs manquantes: 0\n",
      "\n",
      "Liste des valeurs possibles: \n",
      "[0. 2. 1. 3. 4. 5.]\n",
      "\n",
      "Mesures: \n",
      "count    113280.000000\n",
      "mean          0.102675\n",
      "std           0.380038\n",
      "min           0.000000\n",
      "25%           0.000000\n",
      "50%           0.000000\n",
      "75%           0.000000\n",
      "max           5.000000\n",
      "Name: ingredients_that_may_be_from_palm_oil_n, dtype: float64\n"
     ]
    }
   ],
   "source": [
    "revue_Quantitative_Discrete(data_france, 'ingredients_that_may_be_from_palm_oil_n')"
   ]
  },
  {
   "cell_type": "raw",
   "id": "f192757f",
   "metadata": {},
   "source": [
    "No missing values.\n",
    "No outliers and no atypical values."
   ]
  },
  {
   "cell_type": "markdown",
   "id": "140c34eb",
   "metadata": {},
   "source": [
    "#### nutriscore_score"
   ]
  },
  {
   "cell_type": "code",
   "execution_count": 53,
   "id": "5363fae0",
   "metadata": {},
   "outputs": [
    {
     "data": {
      "text/plain": [
       "16375"
      ]
     },
     "execution_count": 53,
     "metadata": {},
     "output_type": "execute_result"
    }
   ],
   "source": [
    "data_france.nutriscore_score.isnull().sum()"
   ]
  },
  {
   "cell_type": "raw",
   "id": "4b12565a",
   "metadata": {},
   "source": [
    "As I have the formula for calculating the nutriscore as well as the necessary fields, I replace the missing values ​​by imputation by recalculating the nutriscore when possible."
   ]
  },
  {
   "cell_type": "code",
   "execution_count": 54,
   "id": "071e00e8",
   "metadata": {},
   "outputs": [],
   "source": [
    "data_france['nutriscore_score'] = data_france.apply(nutri_score_calculation,axis=1)"
   ]
  },
  {
   "cell_type": "code",
   "execution_count": 55,
   "id": "9dd0233b",
   "metadata": {},
   "outputs": [
    {
     "data": {
      "text/plain": [
       "14475"
      ]
     },
     "execution_count": 55,
     "metadata": {},
     "output_type": "execute_result"
    }
   ],
   "source": [
    "data_france.nutriscore_score.isnull().sum()"
   ]
  },
  {
   "cell_type": "code",
   "execution_count": 56,
   "id": "42a9fb80",
   "metadata": {
    "scrolled": true
   },
   "outputs": [
    {
     "data": {
      "text/plain": [
       "count    98805.000000\n",
       "mean         8.285228\n",
       "std          8.993541\n",
       "min        -15.000000\n",
       "25%          1.000000\n",
       "50%          7.000000\n",
       "75%         15.000000\n",
       "max         40.000000\n",
       "Name: nutriscore_score, dtype: float64"
      ]
     },
     "execution_count": 56,
     "metadata": {},
     "output_type": "execute_result"
    }
   ],
   "source": [
    "data_france.nutriscore_score.describe()"
   ]
  },
  {
   "cell_type": "code",
   "execution_count": 57,
   "id": "a605c544",
   "metadata": {
    "scrolled": true
   },
   "outputs": [
    {
     "data": {
      "text/plain": [
       "array([ 18.,   0.,   2.,  nan,  23.,  11.,  12.,   1.,  14.,   3.,  36.,\n",
       "        13.,  -7.,  -4.,  -6.,  -5.,   5.,  24.,  25.,  22.,  26.,  21.,\n",
       "        19., -10.,  17.,  -2.,  -1.,   4.,  -3.,   6.,  16.,   9.,  27.,\n",
       "        30.,  15.,  20.,  -8.,   8.,  10.,   7.,  28.,  32.,  29.,  -9.,\n",
       "        31.,  35., -11., -15., -12., -13.,  34., -14.,  33.,  40.,  37.])"
      ]
     },
     "execution_count": 57,
     "metadata": {},
     "output_type": "execute_result"
    }
   ],
   "source": [
    "data_france.nutriscore_score.unique()"
   ]
  },
  {
   "cell_type": "raw",
   "id": "31ddd0a7",
   "metadata": {},
   "source": [
    "The nutriscore_score variable is a discrete quantitative variable which theoretically varies between -15 and 40. There are therefore neither outliers nor atypical values.\n",
    "For the remaining missing values, I replace them with the median."
   ]
  },
  {
   "cell_type": "code",
   "execution_count": 58,
   "id": "ec89704b",
   "metadata": {},
   "outputs": [],
   "source": [
    "median = data_france.nutriscore_score.median()\n",
    "data_france.loc[data_france.nutriscore_score.isnull(),\"nutriscore_score\"] = median"
   ]
  },
  {
   "cell_type": "code",
   "execution_count": 59,
   "id": "fd189e0d",
   "metadata": {
    "scrolled": true
   },
   "outputs": [
    {
     "data": {
      "text/plain": [
       "0"
      ]
     },
     "execution_count": 59,
     "metadata": {},
     "output_type": "execute_result"
    }
   ],
   "source": [
    "data_france.nutriscore_score.isnull().sum()"
   ]
  },
  {
   "cell_type": "raw",
   "id": "39dd689b",
   "metadata": {},
   "source": [
    "I recreated the nutriscore_grade column based on the new data"
   ]
  },
  {
   "cell_type": "code",
   "execution_count": 60,
   "id": "b8d45efa",
   "metadata": {},
   "outputs": [],
   "source": [
    "data_france['nutriscore_grade'] = data_france.apply(nutriscore_grade,axis=1)"
   ]
  },
  {
   "cell_type": "markdown",
   "id": "83435e6e",
   "metadata": {},
   "source": [
    "#### nova_group"
   ]
  },
  {
   "cell_type": "code",
   "execution_count": 61,
   "id": "9608232e",
   "metadata": {},
   "outputs": [
    {
     "name": "stdout",
     "output_type": "stream",
     "text": [
      "Nombre de valeurs manquantes: 9931\n",
      "\n",
      "Liste des valeurs possibles: \n",
      "[nan  4.  3.  1.  2.]\n",
      "\n",
      "Mesures: \n",
      "count    103349.000000\n",
      "mean          3.258812\n",
      "std           1.032568\n",
      "min           1.000000\n",
      "25%           3.000000\n",
      "50%           4.000000\n",
      "75%           4.000000\n",
      "max           4.000000\n",
      "Name: nova_group, dtype: float64\n"
     ]
    }
   ],
   "source": [
    "revue_Quantitative_Discrete(data_france, 'nova_group')"
   ]
  },
  {
   "cell_type": "raw",
   "id": "fee8be44",
   "metadata": {},
   "source": [
    "The nova_group variable is a discrete quantitative variable that varies between 1 and 4.\n",
    "There are no outliers or outliers.\n",
    "I forget the missing values."
   ]
  },
  {
   "cell_type": "code",
   "execution_count": 62,
   "id": "4ea6fead",
   "metadata": {},
   "outputs": [],
   "source": [
    "data_france = DataFilterNA(data_france, 'nova_group')"
   ]
  },
  {
   "cell_type": "code",
   "execution_count": 63,
   "id": "2f89f4c4",
   "metadata": {},
   "outputs": [
    {
     "data": {
      "text/plain": [
       "0"
      ]
     },
     "execution_count": 63,
     "metadata": {},
     "output_type": "execute_result"
    }
   ],
   "source": [
    "data_france.nova_group.isnull().sum()"
   ]
  },
  {
   "cell_type": "markdown",
   "id": "8831dfc2",
   "metadata": {},
   "source": [
    "#### energy_100g"
   ]
  },
  {
   "cell_type": "raw",
   "id": "04fb466f",
   "metadata": {},
   "source": [
    "The energy_100g variable is a continuous quantitative variable.\n",
    "After a search on the internet, I identify that the maximum value is 3700 joules for 100g.\n",
    "Higher values are therefore considered outliers and suppressed."
   ]
  },
  {
   "cell_type": "code",
   "execution_count": 64,
   "id": "ef95f29b",
   "metadata": {},
   "outputs": [
    {
     "name": "stdout",
     "output_type": "stream",
     "text": [
      "Conversion de la colonne energy_100g au format float\n",
      "\n",
      "Mesures: \n",
      "count    9.455800e+04\n",
      "mean     1.192432e+03\n",
      "std      2.605681e+04\n",
      "min      0.000000e+00\n",
      "25%      4.390000e+02\n",
      "50%      1.013000e+03\n",
      "75%      1.648000e+03\n",
      "max      8.010000e+06\n",
      "Name: energy_100g, dtype: float64\n",
      "\n",
      "Nombre de valeurs aberrantes: 484\n",
      "Suppression des valeurs aberrantes (> 3700)\n",
      "\n",
      "Nombre de valeurs manquantes: 8791\n",
      "Remplacement par la moyenne\n",
      "\n",
      "Vérification: \n",
      "Nombre de valeurs manquantes: 0\n",
      "count    102865.000000\n",
      "mean       1091.838313\n",
      "std         712.982928\n",
      "min           0.000000\n",
      "25%         474.000000\n",
      "50%        1091.838313\n",
      "75%        1582.000000\n",
      "max        3699.000000\n",
      "Name: energy_100g, dtype: float64\n"
     ]
    }
   ],
   "source": [
    "data_france = revue_Quantitative_Continue(data_france, 'energy_100g', 3700)"
   ]
  },
  {
   "cell_type": "markdown",
   "id": "68979a0e",
   "metadata": {},
   "source": [
    "#### fat_100g"
   ]
  },
  {
   "cell_type": "raw",
   "id": "9d2faa1b",
   "metadata": {},
   "source": [
    "Values ​​greater than 100g are considered outliers and suppressed."
   ]
  },
  {
   "cell_type": "code",
   "execution_count": 65,
   "id": "6adb470c",
   "metadata": {},
   "outputs": [
    {
     "name": "stdout",
     "output_type": "stream",
     "text": [
      "Conversion de la colonne fat_100g au format float\n",
      "\n",
      "Mesures: \n",
      "count    94039.000000\n",
      "mean        13.374310\n",
      "std         15.762953\n",
      "min          0.000000\n",
      "25%          1.400000\n",
      "50%          7.400000\n",
      "75%         21.700000\n",
      "max        100.000000\n",
      "Name: fat_100g, dtype: float64\n",
      "\n",
      "Pas de valeurs aberrantes\n",
      "\n",
      "Nombre de valeurs manquantes: 8826\n",
      "Remplacement par la moyenne\n",
      "\n",
      "Vérification: \n",
      "Nombre de valeurs manquantes: 0\n",
      "count    102865.000000\n",
      "mean         13.374310\n",
      "std          15.071538\n",
      "min           0.000000\n",
      "25%           1.700000\n",
      "50%           9.480000\n",
      "75%          20.000000\n",
      "max         100.000000\n",
      "Name: fat_100g, dtype: float64\n"
     ]
    }
   ],
   "source": [
    "data_france = revue_Quantitative_Continue(data_france, 'fat_100g', 101)"
   ]
  },
  {
   "cell_type": "markdown",
   "id": "4b7cc513",
   "metadata": {},
   "source": [
    "#### saturated_fat_100g"
   ]
  },
  {
   "cell_type": "raw",
   "id": "acf8c44f",
   "metadata": {},
   "source": [
    "Values greater than 100g are considered outliers and suppressed."
   ]
  },
  {
   "cell_type": "code",
   "execution_count": 66,
   "id": "f5882638",
   "metadata": {},
   "outputs": [
    {
     "name": "stdout",
     "output_type": "stream",
     "text": [
      "Conversion de la colonne saturated_fat_100g au format float\n",
      "\n",
      "Mesures: \n",
      "count    93243.000000\n",
      "mean         5.497070\n",
      "std          8.232028\n",
      "min          0.000000\n",
      "25%          0.300000\n",
      "50%          2.000000\n",
      "75%          7.800000\n",
      "max        400.000000\n",
      "Name: saturated_fat_100g, dtype: float64\n",
      "\n",
      "Nombre de valeurs aberrantes: 3\n",
      "Suppression des valeurs aberrantes (> 101)\n",
      "\n",
      "Nombre de valeurs manquantes: 9622\n",
      "Remplacement par la moyenne\n",
      "\n",
      "Vérification: \n",
      "Nombre de valeurs manquantes: 0\n",
      "count    102862.000000\n",
      "mean          5.489643\n",
      "std           7.711111\n",
      "min           0.000000\n",
      "25%           0.400000\n",
      "50%           2.600000\n",
      "75%           6.677500\n",
      "max         100.000000\n",
      "Name: saturated_fat_100g, dtype: float64\n"
     ]
    }
   ],
   "source": [
    "data_france = revue_Quantitative_Continue(data_france, 'saturated_fat_100g', 101)"
   ]
  },
  {
   "cell_type": "markdown",
   "id": "7353d3cf",
   "metadata": {},
   "source": [
    "#### carbohydrates_100g"
   ]
  },
  {
   "cell_type": "raw",
   "id": "5497e7c7",
   "metadata": {},
   "source": [
    "Values greater than 100g are considered outliers and suppressed."
   ]
  },
  {
   "cell_type": "code",
   "execution_count": 67,
   "id": "f8112a10",
   "metadata": {},
   "outputs": [
    {
     "name": "stdout",
     "output_type": "stream",
     "text": [
      "Conversion de la colonne carbohydrates_100g au format float\n",
      "\n",
      "Mesures: \n",
      "count    94013.000000\n",
      "mean        26.495755\n",
      "std         26.694454\n",
      "min          0.000000\n",
      "25%          3.400000\n",
      "50%         13.900000\n",
      "75%         51.000000\n",
      "max        105.000000\n",
      "Name: carbohydrates_100g, dtype: float64\n",
      "\n",
      "Nombre de valeurs aberrantes: 2\n",
      "Suppression des valeurs aberrantes (> 101)\n",
      "\n",
      "Nombre de valeurs manquantes: 8849\n",
      "Remplacement par la moyenne\n",
      "\n",
      "Vérification: \n",
      "Nombre de valeurs manquantes: 0\n",
      "count    102860.000000\n",
      "mean         26.494085\n",
      "std          25.518291\n",
      "min           0.000000\n",
      "25%           4.100000\n",
      "50%          17.000000\n",
      "75%          49.000000\n",
      "max         100.000000\n",
      "Name: carbohydrates_100g, dtype: float64\n"
     ]
    }
   ],
   "source": [
    "data_france = revue_Quantitative_Continue(data_france, 'carbohydrates_100g', 101)"
   ]
  },
  {
   "cell_type": "markdown",
   "id": "db6963f1",
   "metadata": {},
   "source": [
    "#### sugars_100g"
   ]
  },
  {
   "cell_type": "raw",
   "id": "31d234f8",
   "metadata": {},
   "source": [
    "Values greater than 100g are considered outliers and suppressed."
   ]
  },
  {
   "cell_type": "code",
   "execution_count": 68,
   "id": "a92193d5",
   "metadata": {},
   "outputs": [
    {
     "name": "stdout",
     "output_type": "stream",
     "text": [
      "Conversion de la colonne sugars_100g au format float\n",
      "\n",
      "Mesures: \n",
      "count    93596.000000\n",
      "mean        12.800882\n",
      "std         18.250049\n",
      "min          0.000000\n",
      "25%          0.900000\n",
      "50%          3.700000\n",
      "75%         17.500000\n",
      "max        100.000000\n",
      "Name: sugars_100g, dtype: float64\n",
      "\n",
      "Pas de valeurs aberrantes\n",
      "\n",
      "Nombre de valeurs manquantes: 9264\n",
      "Remplacement par la moyenne\n",
      "\n",
      "Vérification: \n",
      "Nombre de valeurs manquantes: 0\n",
      "count    102860.000000\n",
      "mean         12.800882\n",
      "std          17.408815\n",
      "min           0.000000\n",
      "25%           1.000000\n",
      "50%           4.800000\n",
      "75%          14.600000\n",
      "max         100.000000\n",
      "Name: sugars_100g, dtype: float64\n"
     ]
    }
   ],
   "source": [
    "data_france = revue_Quantitative_Continue(data_france, 'sugars_100g', 101)"
   ]
  },
  {
   "cell_type": "markdown",
   "id": "2e9643b0",
   "metadata": {},
   "source": [
    "#### fiber_100g"
   ]
  },
  {
   "cell_type": "raw",
   "id": "64a1f5ce",
   "metadata": {},
   "source": [
    "Values greater than 100g are considered outliers and suppressed."
   ]
  },
  {
   "cell_type": "code",
   "execution_count": 69,
   "id": "07b62c09",
   "metadata": {},
   "outputs": [
    {
     "name": "stdout",
     "output_type": "stream",
     "text": [
      "Conversion de la colonne fiber_100g au format float\n",
      "\n",
      "Mesures: \n",
      "count    53574.000000\n",
      "mean         2.863248\n",
      "std          4.146044\n",
      "min          0.000000\n",
      "25%          0.500000\n",
      "50%          1.700000\n",
      "75%          3.600000\n",
      "max        100.000000\n",
      "Name: fiber_100g, dtype: float64\n",
      "\n",
      "Pas de valeurs aberrantes\n",
      "\n",
      "Nombre de valeurs manquantes: 49286\n",
      "Remplacement par la moyenne\n",
      "\n",
      "Vérification: \n",
      "Nombre de valeurs manquantes: 0\n",
      "count    102860.000000\n",
      "mean          2.863248\n",
      "std           2.992166\n",
      "min           0.000000\n",
      "25%           1.600000\n",
      "50%           2.863248\n",
      "75%           2.863248\n",
      "max         100.000000\n",
      "Name: fiber_100g, dtype: float64\n"
     ]
    }
   ],
   "source": [
    "data_france = revue_Quantitative_Continue(data_france, 'fiber_100g', 101)"
   ]
  },
  {
   "cell_type": "markdown",
   "id": "6a3607f7",
   "metadata": {},
   "source": [
    "#### proteins_100g"
   ]
  },
  {
   "cell_type": "raw",
   "id": "2ed4a2ec",
   "metadata": {},
   "source": [
    "Values greater than 100g are considered outliers and suppressed."
   ]
  },
  {
   "cell_type": "code",
   "execution_count": 70,
   "id": "7fcb6f6b",
   "metadata": {},
   "outputs": [
    {
     "name": "stdout",
     "output_type": "stream",
     "text": [
      "Conversion de la colonne proteins_100g au format float\n",
      "\n",
      "Mesures: \n",
      "count    94011.000000\n",
      "mean         8.045196\n",
      "std          7.753494\n",
      "min          0.000000\n",
      "25%          1.915000\n",
      "50%          6.100000\n",
      "75%         11.600000\n",
      "max        100.000000\n",
      "Name: proteins_100g, dtype: float64\n",
      "\n",
      "Pas de valeurs aberrantes\n",
      "\n",
      "Nombre de valeurs manquantes: 8849\n",
      "Remplacement par la moyenne\n",
      "\n",
      "Vérification: \n",
      "Nombre de valeurs manquantes: 0\n",
      "count    102860.000000\n",
      "mean          8.045196\n",
      "std           7.412477\n",
      "min           0.000000\n",
      "25%           2.400000\n",
      "50%           6.800000\n",
      "75%          10.900000\n",
      "max         100.000000\n",
      "Name: proteins_100g, dtype: float64\n"
     ]
    }
   ],
   "source": [
    "data_france = revue_Quantitative_Continue(data_france, 'proteins_100g', 101)"
   ]
  },
  {
   "cell_type": "markdown",
   "id": "d0c001f3",
   "metadata": {},
   "source": [
    "#### salt_100g"
   ]
  },
  {
   "cell_type": "raw",
   "id": "79d93bcb",
   "metadata": {},
   "source": [
    "Values greater than 100g are considered outliers and suppressed."
   ]
  },
  {
   "cell_type": "code",
   "execution_count": 71,
   "id": "b40b1641",
   "metadata": {},
   "outputs": [
    {
     "name": "stdout",
     "output_type": "stream",
     "text": [
      "Conversion de la colonne salt_100g au format float\n",
      "\n",
      "Mesures: \n",
      "count    93358.000000\n",
      "mean         0.894632\n",
      "std          2.512987\n",
      "min          0.000000\n",
      "25%          0.077500\n",
      "50%          0.510000\n",
      "75%          1.200000\n",
      "max        571.000000\n",
      "Name: salt_100g, dtype: float64\n",
      "\n",
      "Nombre de valeurs aberrantes: 2\n",
      "Suppression des valeurs aberrantes (> 101)\n",
      "\n",
      "Nombre de valeurs manquantes: 9502\n",
      "Remplacement par la moyenne\n",
      "\n",
      "Vérification: \n",
      "Nombre de valeurs manquantes: 0\n",
      "count    102858.000000\n",
      "mean          0.887035\n",
      "std           1.543933\n",
      "min           0.000000\n",
      "25%           0.100000\n",
      "50%           0.660000\n",
      "75%           1.100000\n",
      "max         100.000000\n",
      "Name: salt_100g, dtype: float64\n"
     ]
    }
   ],
   "source": [
    "data_france = revue_Quantitative_Continue(data_france, 'salt_100g', 101)"
   ]
  },
  {
   "cell_type": "markdown",
   "id": "86c4aff1",
   "metadata": {},
   "source": [
    "#### sodium_100g"
   ]
  },
  {
   "cell_type": "raw",
   "id": "a44f2152",
   "metadata": {},
   "source": [
    "Values greater than 100g are considered outliers and suppressed."
   ]
  },
  {
   "cell_type": "code",
   "execution_count": 72,
   "id": "2cdfb841",
   "metadata": {},
   "outputs": [
    {
     "name": "stdout",
     "output_type": "stream",
     "text": [
      "Conversion de la colonne sodium_100g au format float\n",
      "\n",
      "Mesures: \n",
      "count    93355.000000\n",
      "mean         0.355401\n",
      "std          0.668360\n",
      "min          0.000000\n",
      "25%          0.031462\n",
      "50%          0.204000\n",
      "75%          0.480000\n",
      "max         49.987200\n",
      "Name: sodium_100g, dtype: float64\n",
      "\n",
      "Pas de valeurs aberrantes\n",
      "\n",
      "Nombre de valeurs manquantes: 9503\n",
      "Remplacement par la moyenne\n",
      "\n",
      "Vérification: \n",
      "Nombre de valeurs manquantes: 0\n",
      "count    102858.000000\n",
      "mean          0.355401\n",
      "std           0.636737\n",
      "min           0.000000\n",
      "25%           0.040000\n",
      "50%           0.264160\n",
      "75%           0.440000\n",
      "max          49.987200\n",
      "Name: sodium_100g, dtype: float64\n"
     ]
    }
   ],
   "source": [
    "data_france = revue_Quantitative_Continue(data_france, 'sodium_100g', 101)"
   ]
  },
  {
   "cell_type": "markdown",
   "id": "6eca3bfd",
   "metadata": {},
   "source": [
    "#### fruits_vegetables_nuts_estimate_from_ingredients_100g"
   ]
  },
  {
   "cell_type": "raw",
   "id": "2e32e36f",
   "metadata": {},
   "source": [
    "Values greater than 100g are considered outliers and suppressed."
   ]
  },
  {
   "cell_type": "code",
   "execution_count": 73,
   "id": "b733de37",
   "metadata": {},
   "outputs": [
    {
     "name": "stdout",
     "output_type": "stream",
     "text": [
      "Conversion de la colonne fruits_vegetables_nuts_estimate_from_ingredients_100g au format float\n",
      "\n",
      "Mesures: \n",
      "count    102073.000000\n",
      "mean         14.677262\n",
      "std          38.037372\n",
      "min           0.000000\n",
      "25%           0.000000\n",
      "50%           0.000000\n",
      "75%          12.500000\n",
      "max        7022.000000\n",
      "Name: fruits_vegetables_nuts_estimate_from_ingredients_100g, dtype: float64\n",
      "\n",
      "Nombre de valeurs aberrantes: 395\n",
      "Suppression des valeurs aberrantes (> 101)\n",
      "\n",
      "Nombre de valeurs manquantes: 785\n",
      "Remplacement par la moyenne\n",
      "\n",
      "Vérification: \n",
      "Nombre de valeurs manquantes: 0\n",
      "count    102463.00000\n",
      "mean         13.85076\n",
      "std          27.47234\n",
      "min           0.00000\n",
      "25%           0.00000\n",
      "50%           0.00000\n",
      "75%          12.90000\n",
      "max         100.89000\n",
      "Name: fruits_vegetables_nuts_estimate_from_ingredients_100g, dtype: float64\n"
     ]
    }
   ],
   "source": [
    "data_france = revue_Quantitative_Continue(data_france, 'fruits_vegetables_nuts_estimate_from_ingredients_100g', 101)"
   ]
  },
  {
   "cell_type": "markdown",
   "id": "d9d3bfe9",
   "metadata": {},
   "source": [
    "# Food-Choose score"
   ]
  },
  {
   "cell_type": "raw",
   "id": "b59d6fb6",
   "metadata": {},
   "source": [
    "Creation of the overall score used by the application"
   ]
  },
  {
   "cell_type": "code",
   "execution_count": 74,
   "id": "35c938db",
   "metadata": {},
   "outputs": [],
   "source": [
    "data_france['fc_score'] = data_france.apply(FoodChooseScore,axis=1)"
   ]
  },
  {
   "cell_type": "code",
   "execution_count": 75,
   "id": "9c91f9a3",
   "metadata": {},
   "outputs": [],
   "source": [
    "data_france['fc_grade'] = data_france.apply(fc_grade,axis=1)"
   ]
  },
  {
   "cell_type": "markdown",
   "id": "87b93f09",
   "metadata": {},
   "source": [
    "# Saving the dataframe in a csv file"
   ]
  },
  {
   "cell_type": "code",
   "execution_count": 76,
   "id": "75c82dfe",
   "metadata": {},
   "outputs": [
    {
     "name": "stdout",
     "output_type": "stream",
     "text": [
      "Nombre de colonnes: 24\n",
      "Nombre de lignes: 102463\n"
     ]
    }
   ],
   "source": [
    "data_france.to_csv('en.openfoodfacts.org.products.filtered.csv', \n",
    "                   sep =';', decimal= ',', \n",
    "                   encoding = 'utf8', index=False)\n",
    "\n",
    "print('Nombre de colonnes: ' + str(len(data_france.columns)))\n",
    "print('Nombre de lignes: ' + str(len(data_france)))"
   ]
  },
  {
   "cell_type": "code",
   "execution_count": null,
   "id": "bb31f20b",
   "metadata": {},
   "outputs": [],
   "source": []
  }
 ],
 "metadata": {
  "kernelspec": {
   "display_name": "Python 3 (ipykernel)",
   "language": "python",
   "name": "python3"
  },
  "language_info": {
   "codemirror_mode": {
    "name": "ipython",
    "version": 3
   },
   "file_extension": ".py",
   "mimetype": "text/x-python",
   "name": "python",
   "nbconvert_exporter": "python",
   "pygments_lexer": "ipython3",
   "version": "3.9.7"
  },
  "toc": {
   "base_numbering": 1,
   "nav_menu": {
    "height": "298px",
    "width": "483px"
   },
   "number_sections": true,
   "sideBar": true,
   "skip_h1_title": false,
   "title_cell": "Table of Contents",
   "title_sidebar": "Contents",
   "toc_cell": false,
   "toc_position": {
    "height": "calc(100% - 180px)",
    "left": "10px",
    "top": "150px",
    "width": "254.9px"
   },
   "toc_section_display": true,
   "toc_window_display": true
  }
 },
 "nbformat": 4,
 "nbformat_minor": 5
}
